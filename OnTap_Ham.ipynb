{
 "cells": [
  {
   "cell_type": "code",
   "execution_count": 45,
   "metadata": {},
   "outputs": [],
   "source": [
    "def giaithua(n):\n",
    "    gt=1\n",
    "    for i in range(1,n+1):\n",
    "        gt=gt*i\n",
    "    return gt"
   ]
  },
  {
   "cell_type": "code",
   "execution_count": 46,
   "metadata": {},
   "outputs": [
    {
     "name": "stdout",
     "output_type": "stream",
     "text": [
      "5!= 120\n"
     ]
    }
   ],
   "source": [
    "gt_5=giaithua(5)\n",
    "print(\"5!=\",gt_5)"
   ]
  },
  {
   "cell_type": "code",
   "execution_count": 47,
   "metadata": {},
   "outputs": [],
   "source": [
    "def chinhhop(k,n):\n",
    "    return giaithua(n)/giaithua(n-k)\n",
    "def tohop(k,n):\n",
    "    return chinhhop(k,n)/giaithua(k)"
   ]
  },
  {
   "cell_type": "code",
   "execution_count": 48,
   "metadata": {},
   "outputs": [
    {
     "name": "stdout",
     "output_type": "stream",
     "text": [
      "chinh hop chap k cua n laf 6\n",
      "to hop chap k cua n la 3\n"
     ]
    }
   ],
   "source": [
    "CH_23=int(chinhhop(2,3))\n",
    "print('chinh hop chap k cua n laf',CH_23)\n",
    "TH_23=int(tohop(2,3))\n",
    "print('to hop chap k cua n la',TH_23)"
   ]
  }
 ],
 "metadata": {
  "kernelspec": {
   "display_name": "Python 3",
   "language": "python",
   "name": "python3"
  },
  "language_info": {
   "codemirror_mode": {
    "name": "ipython",
    "version": 3
   },
   "file_extension": ".py",
   "mimetype": "text/x-python",
   "name": "python",
   "nbconvert_exporter": "python",
   "pygments_lexer": "ipython3",
   "version": "3.12.6"
  }
 },
 "nbformat": 4,
 "nbformat_minor": 2
}
