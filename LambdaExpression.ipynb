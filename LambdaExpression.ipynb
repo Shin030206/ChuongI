{
 "cells": [
  {
   "cell_type": "code",
   "execution_count": 2,
   "metadata": {},
   "outputs": [
    {
     "name": "stdout",
     "output_type": "stream",
     "text": [
      "False\n"
     ]
    }
   ],
   "source": [
    "def handle(f,x):\n",
    "    return f(x)\n",
    "#cach 1:thu ra lenh lambda lam ham kiem tra so le\n",
    "ret1=handle(lambda x:x%2!=0,8)\n",
    "print(ret1)\n",
    "#cach 2:viet ro rang\n",
    "def is0dd(n):\n",
    "    return n%2!=0\n",
    "ret2=handle(lambda x:is0dd(x),7)\n",
    "print(ret2)\n"
   ]
  }
 ],
 "metadata": {
  "kernelspec": {
   "display_name": "Python 3",
   "language": "python",
   "name": "python3"
  },
  "language_info": {
   "codemirror_mode": {
    "name": "ipython",
    "version": 3
   },
   "file_extension": ".py",
   "mimetype": "text/x-python",
   "name": "python",
   "nbconvert_exporter": "python",
   "pygments_lexer": "ipython3",
   "version": "3.12.6"
  }
 },
 "nbformat": 4,
 "nbformat_minor": 2
}
