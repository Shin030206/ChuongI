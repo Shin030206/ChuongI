{
 "cells": [
  {
   "cell_type": "code",
   "execution_count": 2,
   "metadata": {},
   "outputs": [
    {
     "name": "stdout",
     "output_type": "stream",
     "text": [
      "n=587, có các chữ số:\n",
      "n1= 5\n",
      "n2= 8\n",
      "n3= 7\n",
      "5 trăm 8 mươi 7\n"
     ]
    }
   ],
   "source": [
    "def separate(n):\n",
    "    n1=n//100\n",
    "    n2=n//10%10\n",
    "    n3=n%10\n",
    "    return n1,n2,n3\n",
    "n=587\n",
    "n1,n2,n3=separate(n)\n",
    "print(f'n={n}, có các chữ số:')\n",
    "print(\"n1=\",n1)\n",
    "print(\"n2=\",n2)\n",
    "print(\"n3=\",n3)"
   ]
  }
 ],
 "metadata": {
  "kernelspec": {
   "display_name": "Python 3",
   "language": "python",
   "name": "python3"
  },
  "language_info": {
   "codemirror_mode": {
    "name": "ipython",
    "version": 3
   },
   "file_extension": ".py",
   "mimetype": "text/x-python",
   "name": "python",
   "nbconvert_exporter": "python",
   "pygments_lexer": "ipython3",
   "version": "3.12.6"
  }
 },
 "nbformat": 4,
 "nbformat_minor": 2
}
